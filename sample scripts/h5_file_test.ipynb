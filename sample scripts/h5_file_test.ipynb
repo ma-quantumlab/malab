{
 "cells": [
  {
   "cell_type": "code",
   "execution_count": 14,
   "metadata": {},
   "outputs": [],
   "source": [
    "from malab import *\n",
    "from numpy import *\n",
    "%matplotlib inline\n",
    "from matplotlib.pyplot import *\n",
    "import os, sys\n",
    "from tabulate import tabulate"
   ]
  },
  {
   "cell_type": "code",
   "execution_count": null,
   "metadata": {},
   "outputs": [],
   "source": []
  },
  {
   "cell_type": "markdown",
   "metadata": {},
   "source": [
    "## prepare folder and file"
   ]
  },
  {
   "cell_type": "code",
   "execution_count": 22,
   "metadata": {},
   "outputs": [
    {
     "name": "stdout",
     "output_type": "stream",
     "text": [
      "Experiment name: TestExp\n",
      "Current working dir : C:\\Users\\e_hea\\Dropbox\\Alex_MaLabDropbox\\Python\\_malab_test_dir\n",
      "Current data file: 00007_TestExp.h5\n"
     ]
    }
   ],
   "source": [
    "expt_name = 'TestExp'\n",
    "print('Experiment name: ' + expt_name)\n",
    "\n",
    "expt_path = os.getcwd() \n",
    "print(\"Current working dir : %s\" % expt_path)\n",
    "\n",
    "if not os.path.exists('data'):\n",
    "    os.makedirs('data')\n",
    "data_path = expt_path + '\\\\data'\n",
    "\n",
    "fname = get_next_filename(data_path, expt_name, suffix='.h5')\n",
    "print('Current data file: ' + fname)"
   ]
  },
  {
   "cell_type": "code",
   "execution_count": null,
   "metadata": {},
   "outputs": [],
   "source": []
  },
  {
   "cell_type": "markdown",
   "metadata": {},
   "source": [
    "## create and save data"
   ]
  },
  {
   "cell_type": "code",
   "execution_count": 7,
   "metadata": {},
   "outputs": [
    {
     "data": {
      "text/plain": [
       "[<matplotlib.lines.Line2D at 0x201864cba48>,\n",
       " <matplotlib.lines.Line2D at 0x201864d9a08>]"
      ]
     },
     "execution_count": 7,
     "metadata": {},
     "output_type": "execute_result"
    },
    {
     "data": {
      "image/png": "[encoded data removed]",
      "text/plain": [
       "<Figure size 432x288 with 1 Axes>"
      ]
     },
     "metadata": {
      "needs_background": "light"
     },
     "output_type": "display_data"
    }
   ],
   "source": [
    "fake_freq = linspace(0,1,1001)\n",
    "fake_mag = 5* sin(fake_freq*2*pi+10*random.rand()) + random.rand(len(fake_freq))\n",
    "fake_phase = 5* sin(fake_freq*2*pi+10*random.rand()) + random.rand(len(fake_freq))\n",
    "\n",
    "plot(fake_freq, fake_mag, fake_freq, fake_phase)"
   ]
  },
  {
   "cell_type": "code",
   "execution_count": 12,
   "metadata": {},
   "outputs": [],
   "source": [
    "with SlabFile(data_path + '\\\\'+ fname, 'a') as f:\n",
    "    \n",
    "    # 'a': read/write/create\n",
    "\n",
    "    f.append('freqs',fake_freq)\n",
    "    f.append('mags', fake_mag)\n",
    "    f.append('phases', fake_phase)\n",
    "    \n",
    "    f.note('this is a timed note')\n",
    "\n",
    "    # f.add('freqs',fake_freq)\n",
    "    # f.add('mags', fake_mag)\n",
    "    # f.add('phases', fake_phase)\n",
    "    \n",
    "    # append will append to existing data, add will replace exisitng data.\n",
    "    # note the different dimensions between the two methods"
   ]
  },
  {
   "cell_type": "markdown",
   "metadata": {},
   "source": [
    "### post_run function and save figure"
   ]
  },
  {
   "cell_type": "code",
   "execution_count": null,
   "metadata": {},
   "outputs": [],
   "source": []
  },
  {
   "cell_type": "markdown",
   "metadata": {},
   "source": [
    "## load data from file"
   ]
  },
  {
   "cell_type": "code",
   "execution_count": null,
   "metadata": {},
   "outputs": [],
   "source": []
  },
  {
   "cell_type": "code",
   "execution_count": 20,
   "metadata": {},
   "outputs": [
    {
     "name": "stdout",
     "output_type": "stream",
     "text": [
      "C:\\Users\\e_hea\\Dropbox\\Alex_MaLabDropbox\\Python\\_malab_test_dir\\data\n",
      "00006_TestExp.h5\n",
      "------  ----------------------------------------------------\n",
      "freqs   <HDF5 dataset \"freqs\": shape (5, 1001), type \"<f8\">\n",
      "mags    <HDF5 dataset \"mags\": shape (5, 1001), type \"<f8\">\n",
      "notes   <HDF5 dataset \"notes\": shape (3,), type \"|O\">\n",
      "phases  <HDF5 dataset \"phases\": shape (5, 1001), type \"<f8\">\n",
      "------  ----------------------------------------------------\n"
     ]
    }
   ],
   "source": [
    "data_path = data_path\n",
    "fname = fname\n",
    "\n",
    "with SlabFile(data_path + '\\\\'+ fname, 'r') as f:\n",
    "    \n",
    "    # 'r': read only\n",
    "    print(data_path)\n",
    "    print(fname)\n",
    "    print(tabulate(list(f.items())))\n",
    "        \n",
    "    freqs = array(f['freqs'])\n",
    "    mags = array(f['mags'])\n",
    "    phases = array(f['phases'])\n",
    "    \n",
    "    note = f.get_notes()"
   ]
  },
  {
   "cell_type": "code",
   "execution_count": 17,
   "metadata": {},
   "outputs": [
    {
     "data": {
      "text/plain": [
       "['2021-03-26 17:44:31.885763 -- this is a note',\n",
       " '2021-03-26 17:45:45.152336 -- this is a note',\n",
       " '2021-03-26 17:46:02.276888 -- this is a timed note']"
      ]
     },
     "execution_count": 17,
     "metadata": {},
     "output_type": "execute_result"
    }
   ],
   "source": [
    "note"
   ]
  },
  {
   "cell_type": "code",
   "execution_count": null,
   "metadata": {},
   "outputs": [],
   "source": []
  },
  {
   "cell_type": "markdown",
   "metadata": {},
   "source": [
    "## save and load config file into h5"
   ]
  },
  {
   "cell_type": "code",
   "execution_count": null,
   "metadata": {},
   "outputs": [],
   "source": []
  }
 ],
 "metadata": {
  "kernelspec": {
   "display_name": "Python 3",
   "language": "python",
   "name": "python3"
  },
  "language_info": {
   "codemirror_mode": {
    "name": "ipython",
    "version": 3
   },
   "file_extension": ".py",
   "mimetype": "text/x-python",
   "name": "python",
   "nbconvert_exporter": "python",
   "pygments_lexer": "ipython3",
   "version": "3.7.6"
  },
  "toc": {
   "base_numbering": 1,
   "nav_menu": {},
   "number_sections": true,
   "sideBar": true,
   "skip_h1_title": false,
   "title_cell": "Table of Contents",
   "title_sidebar": "Contents",
   "toc_cell": false,
   "toc_position": {},
   "toc_section_display": true,
   "toc_window_display": false
  }
 },
 "nbformat": 4,
 "nbformat_minor": 4
}
